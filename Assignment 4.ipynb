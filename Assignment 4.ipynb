{
 "cells": [
  {
   "cell_type": "code",
   "execution_count": 1,
   "id": "7c304d3c",
   "metadata": {},
   "outputs": [],
   "source": [
    "def checkout_books(librarian_name, *book_titles, duration='2 weeks', **kwargs):\n",
    "    print(f\"Checkout Processed by: {librarian_name}\")\n",
    "    print(\"Books Checked Out:\")\n",
    "    for book in book_titles:\n",
    "        print(f\"- {book}\")\n",
    "    print(f\"Checkout Duration: {duration}\")\n",
    "    \n",
    "    if 'late_fee' in kwargs or 'renewals_allowed' in kwargs:\n",
    "        print(\"Additional Checkout Details:\")\n",
    "        if 'late_fee' in kwargs:\n",
    "            print(f\"- Late Fee: ${kwargs['late_fee']}\")\n",
    "        if 'renewals_allowed' in kwargs:\n",
    "            print(f\"- Renewals Allowed: {kwargs['renewals_allowed']}\")\n",
    "    \n",
    "    if 'special_conditions' in kwargs:\n",
    "        print(\"Special Conditions for Checkout:\")\n",
    "        for condition in kwargs['special_conditions']:\n",
    "            print(f\"- {condition}\")"
   ]
  },
  {
   "cell_type": "code",
   "execution_count": 2,
   "id": "574b9417",
   "metadata": {},
   "outputs": [
    {
     "name": "stdout",
     "output_type": "stream",
     "text": [
      "Checkout Processed by: Sarah Connor\n",
      "Books Checked Out:\n",
      "- 1984\n",
      "- Brave New World\n",
      "Checkout Duration: 3 weeks\n",
      "Additional Checkout Details:\n",
      "- Late Fee: $0.25\n",
      "- Renewals Allowed: 2\n",
      "Special Conditions for Checkout:\n",
      "- Handle with care\n"
     ]
    }
   ],
   "source": [
    "checkout_books('Sarah Connor', '1984', 'Brave New World', duration='3 weeks', late_fee=0.25, renewals_allowed=2, special_conditions=['Handle with care'])"
   ]
  },
  {
   "cell_type": "code",
   "execution_count": 3,
   "id": "dc41123f",
   "metadata": {},
   "outputs": [
    {
     "name": "stdout",
     "output_type": "stream",
     "text": [
      "Checkout Processed by: Yasmin Zahiyah\n",
      "Books Checked Out:\n",
      "- Its Start with Her\n",
      "- Dark Sky\n",
      "Checkout Duration: 2 weeks\n",
      "Additional Checkout Details:\n",
      "- Late Fee: $1\n",
      "- Renewals Allowed: 2\n",
      "Special Conditions for Checkout:\n",
      "- Handle with care\n"
     ]
    }
   ],
   "source": [
    "checkout_books('Yasmin Zahiyah', 'Its Start with Her', 'Dark Sky', duration='2 weeks', late_fee=1, renewals_allowed=2, special_conditions=['Handle with care'])"
   ]
  },
  {
   "cell_type": "code",
   "execution_count": null,
   "id": "5916b080",
   "metadata": {},
   "outputs": [],
   "source": []
  }
 ],
 "metadata": {
  "kernelspec": {
   "display_name": "Python 3 (ipykernel)",
   "language": "python",
   "name": "python3"
  },
  "language_info": {
   "codemirror_mode": {
    "name": "ipython",
    "version": 3
   },
   "file_extension": ".py",
   "mimetype": "text/x-python",
   "name": "python",
   "nbconvert_exporter": "python",
   "pygments_lexer": "ipython3",
   "version": "3.11.5"
  }
 },
 "nbformat": 4,
 "nbformat_minor": 5
}
